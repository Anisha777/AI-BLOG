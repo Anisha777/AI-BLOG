{
 "cells": [
  {
   "cell_type": "markdown",
   "metadata": {},
   "source": [
    "# Loops in Python\n",
    "> Here we wil learn about loops in python and their syntax.\n",
    "\n",
    "- toc: true \n",
    "- badges: true\n",
    "- comments: true\n",
    "- categories: [programming]\n",
    "- image: images/loops.png"
   ]
  },
  {
   "cell_type": "markdown",
   "metadata": {},
   "source": [
    "# Loops in Python\n",
    "Looping means repeating something over and over until a particular condition is satisfied. Here we will learn about following topics under loops in python:\n",
    "  - While Loops\n",
    "    - Sum 1 to 10 \n",
    "    - Adding number\n",
    "  - Infinite Loops\n",
    "  - For Loops\n",
    "    - Sum 1 to 10\n",
    "  - Break and Continue Keyword\n",
    "    - Break\n",
    "    - Continue\n",
    "  - Step argument\n",
    "  - For loop and string"
   ]
  },
  {
   "cell_type": "markdown",
   "metadata": {},
   "source": []
  },
  {
   "cell_type": "markdown",
   "metadata": {},
   "source": [
    "# While Loops\n",
    "With the while loop we can execute a set of statements as long as a condition is true.\n"
   ]
  },
  {
   "cell_type": "code",
   "execution_count": 1,
   "metadata": {},
   "outputs": [
    {
     "name": "stdout",
     "output_type": "stream",
     "text": [
      "hello anisha\n",
      "hello anisha\n",
      "hello anisha\n",
      "hello anisha\n",
      "hello anisha\n",
      "hello anisha\n",
      "hello anisha\n",
      "hello anisha\n",
      "hello anisha\n",
      "hello anisha\n"
     ]
    }
   ],
   "source": [
    "# it prints hello anisha for 10 times\n",
    "i = 1\n",
    "while i <= 10:\n",
    "    print(\"hello anisha\")\n",
    "    i=i+1"
   ]
  },
  {
   "cell_type": "markdown",
   "metadata": {},
   "source": [
    "  - Sum 1 to 10<br>\n",
    "  In this program we will sum number from 1 to 10 using while loop."
   ]
  },
  {
   "cell_type": "code",
   "execution_count": 3,
   "metadata": {},
   "outputs": [
    {
     "name": "stdout",
     "output_type": "stream",
     "text": [
      "1\n",
      "3\n",
      "6\n",
      "10\n",
      "15\n",
      "21\n",
      "28\n",
      "36\n",
      "45\n",
      "55\n"
     ]
    }
   ],
   "source": [
    "total = 0\n",
    "i = 1\n",
    "while i <= 10:\n",
    "    total = total + i \n",
    "    i = i + 1\n",
    "    print(total)"
   ]
  },
  {
   "cell_type": "markdown",
   "metadata": {},
   "source": [
    "  - Adding number<br>\n",
    "  In this program we will add a number"
   ]
  },
  {
   "cell_type": "code",
   "execution_count": 2,
   "metadata": {},
   "outputs": [
    {
     "name": "stdout",
     "output_type": "stream",
     "text": [
      "enter a number 12345\n",
      "15\n"
     ]
    }
   ],
   "source": [
    "num = input(\"enter a number \")\n",
    "total = 0\n",
    "i = 0\n",
    "while i < len(num):\n",
    "    total = total + int(num[i])\n",
    "    i = i+1\n",
    "print(total)"
   ]
  },
  {
   "cell_type": "markdown",
   "metadata": {},
   "source": [
    "# Infinite Loops\n",
    "A continuous repetitive conditional loop known as a \"infinite loop\" in Python continues to run until an outside factor intervenes in the execution flow, such as a lack of CPU memory, a failed feature or error code that terminated the execution, or a new feature in one of the legacy systems that requires code integration."
   ]
  },
  {
   "cell_type": "code",
   "execution_count": null,
   "metadata": {},
   "outputs": [],
   "source": [
    "# Illustrating Infinite Loops\n",
    "i = 0\n",
    "while i <= 10:\n",
    "    print(\"error\")\n",
    "# to stop the infinite loops we have to press ctrl + c"
   ]
  },
  {
   "cell_type": "markdown",
   "metadata": {},
   "source": [
    "# For Loops\n",
    "The for loop in Python is used to iterate over a sequence (list, tuple, string) or other iterable objects. Iterating over a sequence is called traversal."
   ]
  },
  {
   "cell_type": "code",
   "execution_count": null,
   "metadata": {},
   "outputs": [],
   "source": [
    "# it prints hello 10 times\n",
    "for i in range (10):\n",
    "    print(\"hello\")\n",
    "    "
   ]
  },
  {
   "cell_type": "markdown",
   "metadata": {},
   "source": [
    "  - Sum 1 to 10<br>\n",
    "  In this program we will sum number from 1 to 10 using for loop."
   ]
  },
  {
   "cell_type": "code",
   "execution_count": null,
   "metadata": {},
   "outputs": [],
   "source": [
    "total = 0\n",
    "for i in range(1,11):\n",
    "    total = total + i\n",
    "print(total)\n"
   ]
  },
  {
   "cell_type": "markdown",
   "metadata": {},
   "source": [
    "# Break and Continue Keyword\n",
    "The Python break statement stops the loop in which the statement is placed. A Python continue statement skips a single iteration in a loop. Both break and continue statements can be used in a for or a while loop."
   ]
  },
  {
   "cell_type": "markdown",
   "metadata": {},
   "source": [
    "  - Break"
   ]
  },
  {
   "cell_type": "code",
   "execution_count": null,
   "metadata": {},
   "outputs": [],
   "source": [
    "# i to 10 \n",
    "for i in range (1,11):\n",
    "    if i == 5:\n",
    "        break\n",
    "    print(i)\n",
    "\n"
   ]
  },
  {
   "cell_type": "markdown",
   "metadata": {},
   "source": [
    "  - Continue"
   ]
  },
  {
   "cell_type": "code",
   "execution_count": null,
   "metadata": {},
   "outputs": [],
   "source": [
    "# print 1 to 10 but not 5\n",
    "for i in range (1,11):\n",
    "    if i == 5:\n",
    "        continue\n",
    "    print(i)\n"
   ]
  },
  {
   "cell_type": "markdown",
   "metadata": {},
   "source": [
    "# Step argument\n",
    "Step argument in python refers to jumping of certain step during exectuionof program."
   ]
  },
  {
   "cell_type": "code",
   "execution_count": 1,
   "metadata": {},
   "outputs": [
    {
     "name": "stdout",
     "output_type": "stream",
     "text": [
      "1\n",
      "3\n",
      "5\n",
      "7\n",
      "9\n"
     ]
    }
   ],
   "source": [
    "# it prints odd numbers\n",
    "for i in range(1,11,2):\n",
    "    print(i)"
   ]
  },
  {
   "cell_type": "markdown",
   "metadata": {},
   "source": [
    "# For loop and string\n"
   ]
  },
  {
   "cell_type": "code",
   "execution_count": 7,
   "metadata": {},
   "outputs": [
    {
     "name": "stdout",
     "output_type": "stream",
     "text": [
      " \n",
      "a\n",
      "n\n",
      "i\n",
      "s\n",
      "h\n",
      "a\n"
     ]
    }
   ],
   "source": [
    "name = \" anisha\"\n",
    "for i in range(len(name)):\n",
    "    print(name[i])\n"
   ]
  }
 ],
 "metadata": {
  "kernelspec": {
   "display_name": "Python 3 (ipykernel)",
   "language": "python",
   "name": "python3"
  },
  "language_info": {
   "codemirror_mode": {
    "name": "ipython",
    "version": 3
   },
   "file_extension": ".py",
   "mimetype": "text/x-python",
   "name": "python",
   "nbconvert_exporter": "python",
   "pygments_lexer": "ipython3",
   "version": "3.7.13"
  },
  "vscode": {
   "interpreter": {
    "hash": "b38e25845b4f0276d4bb2cf97c0646ab4a24ad96955e299a7e8984d834f5527f"
   }
  }
 },
 "nbformat": 4,
 "nbformat_minor": 2
}
