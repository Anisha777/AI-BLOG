{
 "cells": [
  {
   "cell_type": "markdown",
   "metadata": {},
   "source": [
    "# Tuples in Python\n",
    "> Here we wil learn about Tuples in python.\n",
    "\n",
    "- toc: true \n",
    "- badges: true\n",
    "- comments: true\n",
    "- categories: [programming]\n",
    "- image: images/Tuples.png"
   ]
  },
 
  {
   "cell_type": "markdown",
   "metadata": {},
   "source": [
    "# Tuples in python\n",
    "- Store multiple item in single varibale.\n",
    "-  Built-in data type.\n",
    "- Collection which is ordered and unchangeable.\n",
    "- Tuples are written in round bracket."
   ]
  },
  {
   "cell_type": "code",
   "execution_count": 2,
   "metadata": {},
   "outputs": [
    {
     "name": "stdout",
     "output_type": "stream",
     "text": [
      "('ani', 'leni')\n"
     ]
    }
   ],
   "source": [
    "# example to demonstrate tuples\n",
    "girl=(\"ani\",\"leni\")\n",
    "print(girl)"
   ]
  },
  {
   "cell_type": "markdown",
   "metadata": {},
   "source": []
  },
  {
   "cell_type": "markdown",
   "metadata": {},
   "source": [
    "Tuple are : <br>\n",
    "- Ordered - in a order<br>\n",
    "- Unchnagebale - cant add or remove item after tuple is created.<br>\n",
    "- Duplicate - since tuple are indexed, it can have two same item."
   ]
  },
  {
   "cell_type": "markdown",
   "metadata": {},
   "source": [
    "# Tuple Length\n",
    "len( ) function determine how mnay item a tuple consist."
   ]
  },
  {
   "cell_type": "code",
   "execution_count": 4,
   "metadata": {},
   "outputs": [
    {
     "name": "stdout",
     "output_type": "stream",
     "text": [
      "2\n"
     ]
    }
   ],
   "source": [
    "girl=(\"ani\",\"leni\")\n",
    "print(len(girl))"
   ]
  },
  {
   "cell_type": "markdown",
   "metadata": {},
   "source": [
    "# Creating tuple with one item\n",
    "To create tuple with one item, we have to add ',' after item name, else it is not recognized by python."
   ]
  },
  {
   "cell_type": "code",
   "execution_count": 3,
   "metadata": {},
   "outputs": [
    {
     "name": "stdout",
     "output_type": "stream",
     "text": [
      "('ani',)\n"
     ]
    }
   ],
   "source": [
    "girl=(\"ani\",)\n",
    "print(girl)"
   ]
  },
  {
   "cell_type": "markdown",
   "metadata": {},
   "source": []
  },
  {
   "cell_type": "markdown",
   "metadata": {},
   "source": [
    "# Data types used as tuple\n",
    "Tuple can be of any data type."
   ]
  },
  {
   "cell_type": "code",
   "execution_count": 5,
   "metadata": {},
   "outputs": [
    {
     "name": "stdout",
     "output_type": "stream",
     "text": [
      "('ani', 7, True)\n"
     ]
    }
   ],
   "source": [
    "girl=(\"ani\",7,True)\n",
    "print(girl)"
   ]
  },
  {
   "cell_type": "markdown",
   "metadata": {},
   "source": [
    "# type()\n",
    "It is defined as objects with data type tuple.<br>\n",
    "<class 'tuple'>"
   ]
  },
  {
   "cell_type": "code",
   "execution_count": 6,
   "metadata": {},
   "outputs": [
    {
     "name": "stdout",
     "output_type": "stream",
     "text": [
      "<class 'tuple'>\n"
     ]
    }
   ],
   "source": [
    "girl=(\"ani\",)\n",
    "print(type(girl))"
   ]
  },
  {
   "cell_type": "markdown",
   "metadata": {},
   "source": [
    "# tuple() Constructor\n",
    "It is possible to use tuple( ) constructor to make tuple."
   ]
  },
  {
   "cell_type": "code",
   "execution_count": 7,
   "metadata": {},
   "outputs": [
    {
     "name": "stdout",
     "output_type": "stream",
     "text": [
      "('ani', 'leni')\n"
     ]
    }
   ],
   "source": [
    "girl=tuple((\"ani\",\"leni\"))\n",
    "print(girl)\n",
    "# note: We have to use 2 brackets"
   ]
  },
  {
   "cell_type": "markdown",
   "metadata": {},
   "source": [
    "# Accessing Tuple\n",
    "We can access tuple by its index number."
   ]
  },
  {
   "cell_type": "code",
   "execution_count": 8,
   "metadata": {},
   "outputs": [
    {
     "name": "stdout",
     "output_type": "stream",
     "text": [
      "leni\n"
     ]
    }
   ],
   "source": [
    "girl=(\"ani\",\"leni\")\n",
    "print(girl[1])"
   ]
  },
  {
   "cell_type": "markdown",
   "metadata": {},
   "source": [
    " - Negative Indexing<br>\n",
    " -1 refers to last item, -2 refers to second last item and so on.\n"
   ]
  },
  {
   "cell_type": "markdown",
   "metadata": {},
   "source": [
    "- Range Indexing<br>\n"
   ]
  },
  {
   "cell_type": "code",
   "execution_count": 9,
   "metadata": {},
   "outputs": [
    {
     "name": "stdout",
     "output_type": "stream",
     "text": [
      "leni\n"
     ]
    }
   ],
   "source": [
    "girl=(\"ani\",\"leni\")\n",
    "print(girl[-1])"
   ]
  },
  {
   "cell_type": "markdown",
   "metadata": {},
   "source": []
  },
  {
   "cell_type": "markdown",
   "metadata": {},
   "source": [
    "- Check if item exists<br>\n",
    "It uses in keyword."
   ]
  },
  {
   "cell_type": "code",
   "execution_count": 10,
   "metadata": {},
   "outputs": [
    {
     "name": "stdout",
     "output_type": "stream",
     "text": [
      "yes\n"
     ]
    }
   ],
   "source": [
    "girl=(\"ani\",\"leni\")\n",
    "if \"ani\" in girl:\n",
    "    print(\"yes\")"
   ]
  },
  {
   "cell_type": "markdown",
   "metadata": {},
   "source": [
    "# Updating Tuple\n",
    "We can't change , add, remove tuple though there are some other works that can be done."
   ]
  },
  {
   "cell_type": "markdown",
   "metadata": {},
   "source": [
    "- Change tuple value<br>\n",
    "  - convert tuple into list\n",
    "  - change the list\n",
    "  - convert list back to tuple"
   ]
  },
  {
   "cell_type": "code",
   "execution_count": 11,
   "metadata": {},
   "outputs": [
    {
     "name": "stdout",
     "output_type": "stream",
     "text": [
      "('ani', 'seni')\n"
     ]
    }
   ],
   "source": [
    "girl=(\"ani\",\"leny\")\n",
    "chn = list(girl)\n",
    "chn[1]=\"seni\"\n",
    "girl = tuple(chn)\n",
    "print(girl)"
   ]
  },
  {
   "cell_type": "markdown",
   "metadata": {},
   "source": [
    "  - Adding item in tuple<br>\n",
    "    - convert tuple into list\n",
    "    - add item with use of .append\n",
    "    - convert list back to tuple\n"
   ]
  },
  {
   "cell_type": "code",
   "execution_count": 13,
   "metadata": {},
   "outputs": [
    {
     "name": "stdout",
     "output_type": "stream",
     "text": [
      "('ani', 'leny', 'seni')\n"
     ]
    }
   ],
   "source": [
    "girl=(\"ani\",\"leny\")\n",
    "chn = list(girl)\n",
    "chn.append(\"seni\")\n",
    "girl = tuple(chn)\n",
    "print(girl)"
   ]
  },
  {
   "cell_type": "markdown",
   "metadata": {},
   "source": [
    "  - Adding tuple to tuple\n",
    "  "
   ]
  },
  {
   "cell_type": "code",
   "execution_count": 15,
   "metadata": {},
   "outputs": [
    {
     "name": "stdout",
     "output_type": "stream",
     "text": [
      "('ani', 'leny', 'seni')\n"
     ]
    }
   ],
   "source": [
    "girl=(\"ani\",\"leny\")\n",
    "chn =(\"seni\",)\n",
    "adde= girl + chn\n",
    "print(adde)"
   ]
  },
  {
   "cell_type": "markdown",
   "metadata": {},
   "source": []
  },
  {
   "cell_type": "markdown",
   "metadata": {},
   "source": [
    "- Remove item in tuple<br>\n",
    "Use of .remove instead of .append"
   ]
  },
  {
   "cell_type": "code",
   "execution_count": 16,
   "metadata": {},
   "outputs": [
    {
     "name": "stdout",
     "output_type": "stream",
     "text": [
      "('ani',)\n"
     ]
    }
   ],
   "source": [
    "girl=(\"ani\",\"leny\")\n",
    "chn = list(girl)\n",
    "chn.remove(\"leny\")\n",
    "girl = tuple(chn)\n",
    "print(girl)"
   ]
  },
  {
   "cell_type": "markdown",
   "metadata": {},
   "source": [
    "  - Delete tuple completely <br>\n",
    "  It shows error\n"
   ]
  },
  {
   "cell_type": "code",
   "execution_count": 17,
   "metadata": {},
   "outputs": [
    {
     "ename": "NameError",
     "evalue": "name 'girl' is not defined",
     "output_type": "error",
     "traceback": [
      "\u001b[1;31m---------------------------------------------------------------------------\u001b[0m",
      "\u001b[1;31mNameError\u001b[0m                                 Traceback (most recent call last)",
      "\u001b[1;32m~\\AppData\\Local\\Temp\\ipykernel_6168\\836222327.py\u001b[0m in \u001b[0;36m<module>\u001b[1;34m\u001b[0m\n\u001b[0;32m      1\u001b[0m \u001b[0mgirl\u001b[0m\u001b[1;33m=\u001b[0m\u001b[1;33m(\u001b[0m\u001b[1;34m\"ani\"\u001b[0m\u001b[1;33m,\u001b[0m\u001b[1;34m\"leny\"\u001b[0m\u001b[1;33m)\u001b[0m\u001b[1;33m\u001b[0m\u001b[1;33m\u001b[0m\u001b[0m\n\u001b[0;32m      2\u001b[0m \u001b[1;32mdel\u001b[0m \u001b[0mgirl\u001b[0m\u001b[1;33m\u001b[0m\u001b[1;33m\u001b[0m\u001b[0m\n\u001b[1;32m----> 3\u001b[1;33m \u001b[0mprint\u001b[0m\u001b[1;33m(\u001b[0m\u001b[0mgirl\u001b[0m\u001b[1;33m)\u001b[0m\u001b[1;33m\u001b[0m\u001b[1;33m\u001b[0m\u001b[0m\n\u001b[0m",
      "\u001b[1;31mNameError\u001b[0m: name 'girl' is not defined"
     ]
    }
   ],
   "source": [
    "girl=(\"ani\",\"leny\")\n",
    "del girl\n",
    "print(girl)"
   ]
  },
  {
   "cell_type": "markdown",
   "metadata": {},
   "source": [
    "# Unpack tuple\n",
    "Exracting value back to variable is called a unpacking of tuple."
   ]
  },
  {
   "cell_type": "code",
   "execution_count": 18,
   "metadata": {},
   "outputs": [
    {
     "name": "stdout",
     "output_type": "stream",
     "text": [
      "ani\n",
      "leny\n"
     ]
    }
   ],
   "source": [
    "girl=(\"ani\",\"leny\")\n",
    "(lovely,cute)=girl\n",
    "print(lovely)\n",
    "print(cute)"
   ]
  },
  {
   "cell_type": "markdown",
   "metadata": {},
   "source": [
    "# Loop tuple\n",
    "  - Use of for loop"
   ]
  },
  {
   "cell_type": "code",
   "execution_count": 19,
   "metadata": {},
   "outputs": [
    {
     "name": "stdout",
     "output_type": "stream",
     "text": [
      "ani\n",
      "seni\n"
     ]
    }
   ],
   "source": [
    "girl=(\"ani\",\"seni\")\n",
    "for x in girl:\n",
    "    print(x)"
   ]
  },
  {
   "cell_type": "markdown",
   "metadata": {},
   "source": [
    "  - Use of while loop"
   ]
  },
  {
   "cell_type": "code",
   "execution_count": 20,
   "metadata": {},
   "outputs": [
    {
     "name": "stdout",
     "output_type": "stream",
     "text": [
      "ani\n",
      "seni\n"
     ]
    }
   ],
   "source": [
    "girl=(\"ani\",\"seni\")\n",
    "i = 0\n",
    "while i < len(girl):\n",
    "    print(girl[i])\n",
    "    i = i + 1"
   ]
  },
  {
   "cell_type": "markdown",
   "metadata": {},
   "source": [
    "# join tuple\n",
    "We use '+' operator to join two or more tuples."
   ]
  },
  {
   "cell_type": "code",
   "execution_count": 21,
   "metadata": {},
   "outputs": [
    {
     "name": "stdout",
     "output_type": "stream",
     "text": [
      "('ani', 'sha', 1, 9)\n"
     ]
    }
   ],
   "source": [
    "girl=(\"ani\",\"sha\")\n",
    "age = (1,9)\n",
    "tot = girl + age\n",
    "print(tot)"
   ]
  },
  {
   "cell_type": "markdown",
   "metadata": {},
   "source": [
    "# Multiply tuple\n",
    "We use '*' operator to multiply two or more tuples.\n"
   ]
  },
  {
   "cell_type": "code",
   "execution_count": 24,
   "metadata": {},
   "outputs": [
    {
     "name": "stdout",
     "output_type": "stream",
     "text": [
      "('ani', 'sha', 'ani', 'sha')\n"
     ]
    }
   ],
   "source": [
    "girl=(\"ani\",\"sha\")\n",
    "new = girl * 2\n",
    "print(new)"
   ]
  },
  {
   "cell_type": "markdown",
   "metadata": {},
   "source": [
    "# Tuple Method\n",
    "  - count( ) : returns number of time specified value occurs in tuple.\n",
    "  - index( ) : search list in tuple by its index number"
   ]
  },
  {
   "cell_type": "markdown",
   "metadata": {},
   "source": []
  }
 ],
 "metadata": {
  "kernelspec": {
   "display_name": "Python 3.7.13",
   "language": "python",
   "name": "python3"
  },
  "language_info": {
   "codemirror_mode": {
    "name": "ipython",
    "version": 3
   },
   "file_extension": ".py",
   "mimetype": "text/x-python",
   "name": "python",
   "nbconvert_exporter": "python",
   "pygments_lexer": "ipython3",
   "version": "3.7.13"
  },
  "orig_nbformat": 4,
  "vscode": {
   "interpreter": {
    "hash": "b38e25845b4f0276d4bb2cf97c0646ab4a24ad96955e299a7e8984d834f5527f"
   }
  }
 },
 "nbformat": 4,
 "nbformat_minor": 2
}
