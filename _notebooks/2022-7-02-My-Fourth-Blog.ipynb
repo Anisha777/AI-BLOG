{
 "cells": [
  {
   "cell_type": "markdown",
   "metadata": {},
   "source": [
    "# Conditional Branching in Python\n",
    "> if,pass,if-else and so on..\n",
    "\n",
    "- toc: true \n",
    "- badges: true\n",
    "- comments: true\n",
    "- categories: [programming]\n",
    "- image: images/condition.png"
   ]
  },
  {
   "cell_type": "markdown",
   "metadata": {},
   "source": [
    "# Conditional Branching in Python\n",
    "Conditions in Python are comparable to those in all C-like languages. The if keyword is used to create conditions, which are then followed by a logical statement and a colon (:). If the expression returns true, the next sentence will be carried out. If it is false, the program will move on to the next statement without skipping the previous one."
   ]
  },
  {
   "cell_type": "markdown",
   "metadata": {},
   "source": [
    "# Some Branching Statement in python\n",
    "- If statement\n",
    "- Pass statement\n",
    "- If-else statement\n",
    "- AND , OR operator\n",
    "- If-elif-else statement\n",
    "- in keyboard\n",
    "- Check empty or not"
   ]
  },
  {
   "cell_type": "markdown",
   "metadata": {},
   "source": [
    "# If statement\n",
    "Python if Statement is used for decision-making operations. It contains a body of code which runs only when the condition given in the if statement is true. "
   ]
  },
  {
   "cell_type": "code",
   "execution_count": 2,
   "metadata": {},
   "outputs": [
    {
     "name": "stdout",
     "output_type": "stream",
     "text": [
      "enter your age20\n",
      "you are greater than 14 years old\n"
     ]
    }
   ],
   "source": [
    "# Code runs only when age if greater than 15\n",
    "age=int(input(\"enter your age\"))\n",
    "if age>=14 :\n",
    "    print(\"you are greater than 14 years old\")"
   ]
  },
  {
   "cell_type": "markdown",
   "metadata": {},
   "source": [
    "# Pass statement\n",
    "Pass statements are typically used as placeholders.\n",
    "\n",
    "Let's say we have a loop or function that isn't used right now but that we wish to in the future. They cannot have an empty body. An error would be displayed by the interpreter. Therefore, we create a body that accomplishes nothing using the pass statement."
   ]
  },
  {
   "cell_type": "code",
   "execution_count": 3,
   "metadata": {},
   "outputs": [],
   "source": [
    "x = 18\n",
    "if x >18:\n",
    "    pass"
   ]
  },
  {
   "cell_type": "markdown",
   "metadata": {},
   "source": [
    "# If-else statement\n",
    "The true and false parts of a given condition are both executed using the if-else expression. If the condition is true, the code in the if block is performed; if it is false, the code in the else block is executed."
   ]
  },
  {
   "cell_type": "code",
   "execution_count": 4,
   "metadata": {},
   "outputs": [
    {
     "name": "stdout",
     "output_type": "stream",
     "text": [
      "enter your age 12\n",
      "you are smaller than 14\n"
     ]
    }
   ],
   "source": [
    "# code runs in both condition, either it is true or false\n",
    "age=int(input(\"enter your age\"))\n",
    "if age>=14 :\n",
    "    print(\"you are greater than 14 years old\")\n",
    "else:\n",
    "    print(\"you are smaller than 14\")"
   ]
  },
  {
   "cell_type": "markdown",
   "metadata": {},
   "source": [
    "#  AND , OR operator\n",
    "AND opertor returns true  if both statements are true and OR operator returns true if one of the statement is true."
   ]
  },
  {
   "cell_type": "code",
   "execution_count": 5,
   "metadata": {},
   "outputs": [
    {
     "name": "stdout",
     "output_type": "stream",
     "text": [
      "She is good girl\n"
     ]
    }
   ],
   "source": [
    "name = 'anisha'\n",
    "age = 20\n",
    "if name == \"anisha\" and age == 20:\n",
    "    print (\"She is good girl\")\n",
    "else:\n",
    "    print (\"She is not like anisha\")"
   ]
  },
  {
   "cell_type": "markdown",
   "metadata": {},
   "source": [
    "# If-elif-else statement\n",
    "The elif statement allows you to check multiple expressions for TRUE and execute a block of code as soon as one of the conditions evaluates to TRUE."
   ]
  },
  {
   "cell_type": "code",
   "execution_count": 6,
   "metadata": {},
   "outputs": [
    {
     "name": "stdout",
     "output_type": "stream",
     "text": [
      "She is good girl\n"
     ]
    }
   ],
   "source": [
    "name = 'abc'\n",
    "age = 20\n",
    "if name == \"abc\" and age == 20:\n",
    "    print (\"She is good girl\")\n",
    "elif name == \"abc\" or age == 19:\n",
    "    print (\"She is bad girl\")\n",
    "else:\n",
    "    print(\"I don't know about her\")\n"
   ]
  },
  {
   "cell_type": "markdown",
   "metadata": {},
   "source": [
    "# in keyboard\n",
    "in keyboard returns True if a sequence with the specified value is present in the object."
   ]
  },
  {
   "cell_type": "code",
   "execution_count": 7,
   "metadata": {},
   "outputs": [
    {
     "name": "stdout",
     "output_type": "stream",
     "text": [
      "true\n"
     ]
    }
   ],
   "source": [
    "name = \"Anisha\"\n",
    "if 'A' in \"Anisha\":\n",
    "    print(\"true\")\n",
    "else:\n",
    "    print(\"False\")"
   ]
  },
  {
   "cell_type": "markdown",
   "metadata": {},
   "source": [
    "# Check empty or not\n"
   ]
  },
  {
   "cell_type": "code",
   "execution_count": 8,
   "metadata": {},
   "outputs": [
    {
     "name": "stdout",
     "output_type": "stream",
     "text": [
      "not empty\n"
     ]
    }
   ],
   "source": [
    "name = \"anisha\"\n",
    "if name:\n",
    "    print(\"not empty\")\n",
    "else:\n",
    "    print(\"is empty\")"
   ]
  },
  {
   "cell_type": "code",
   "execution_count": null,
   "metadata": {},
   "outputs": [],
   "source": []
  }
 ],
 "metadata": {
  "kernelspec": {
   "display_name": "Python 3 (ipykernel)",
   "language": "python",
   "name": "python3"
  },
  "language_info": {
   "codemirror_mode": {
    "name": "ipython",
    "version": 3
   },
   "file_extension": ".py",
   "mimetype": "text/x-python",
   "name": "python",
   "nbconvert_exporter": "python",
   "pygments_lexer": "ipython3",
   "version": "3.7.13"
  },
  "vscode": {
   "interpreter": {
    "hash": "b38e25845b4f0276d4bb2cf97c0646ab4a24ad96955e299a7e8984d834f5527f"
   }
  }
 },
 "nbformat": 4,
 "nbformat_minor": 2
}
